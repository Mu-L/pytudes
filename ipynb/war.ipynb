{
 "cells": [
  {
   "cell_type": "markdown",
   "metadata": {},
   "source": [
    "<div align=\"right\" style=\"text-align: right\"><i>Peter Norvig<br>Aug 2020<br>Revised Jun 2025</i></div>\n",
    "\n",
    "# War [(What is it Good For?)](https://www.youtube.com/watch?v=bX7V6FAoTLc)\n",
    "\n",
    "The [538 Riddler Classic for 28 August 2020](https://fivethirtyeight.com/features/can-you-cover-the-globe/) concerns the children's [**card game War**](https://en.wikipedia.org/wiki/War_%28card_game%29). The column states \"Duane’s friend’s granddaughter claimed that she once won a game of War that lasted exactly 26 turns, with no wars.\" What is the probability of that? We'll analyze this problem, and then we'll look at some other questions about the game. To review, here are the rules:\n",
    "- The deck (typically 52 cards) is dealt out so that the two players each have half the cards (26).\n",
    "- Both players play a card, face up, from the top of their deck. This is called a **battle**.\n",
    "- If there is a tie between the two cards in a battle, a **war** ensues:\n",
    "    - To resolve a war, both players play three cards face down and a fourth face up. (Some variants use only one or two face-down cards.)\n",
    "    - If the fourth (face-up) cards are the same, there is another war.\n",
    "- The player with the higher of the face-up cards wins the battle/war and places all the played cards at the bottom of their deck (in random order).\n",
    "- Repeat play until one player runs out of cards, and thereby loses the game.\n",
    "    - If both players run out of cards at the same time, it is a tie.\n",
    "\n",
    "I considered four approaches:\n",
    "\n",
    "# Approach 1: Simple Arithmetic?\n",
    "\n",
    "Assuming the cards are fairly shuffled, both players have an equal chance of winning each battle. If player **A** wins each battle with probability 1/2, than the probability of sweeping 26 battles in a row would be:"
   ]
  },
  {
   "cell_type": "code",
   "execution_count": 1,
   "metadata": {},
   "outputs": [
    {
     "data": {
      "text/plain": [
       "1.4901161193847656e-08"
      ]
     },
     "execution_count": 1,
     "metadata": {},
     "output_type": "execute_result"
    }
   ],
   "source": [
    "(1/2) ** 26"
   ]
  },
  {
   "cell_type": "markdown",
   "metadata": {},
   "source": [
    "About **15 in a billion**. But after player **A** plays a card, there are 51 possible cards that player **B** might play. Of these, 3 have the same rank as **A**'s card, resulting in a tie. So the possible outcomes for the first battle are:    \n",
    "\n",
    "    tie:     3/51\n",
    "    A wins: 24/51\n",
    "    B wins: 24/51\n",
    "    \n",
    "If every subsequent battle were the same, the probability that **A** sweeps 26 battles in a row would be:"
   ]
  },
  {
   "cell_type": "code",
   "execution_count": 2,
   "metadata": {},
   "outputs": [
    {
     "data": {
      "text/plain": [
       "3.0808297965386556e-09"
      ]
     },
     "execution_count": 2,
     "metadata": {},
     "output_type": "execute_result"
    }
   ],
   "source": [
    "(24/51) ** 26"
   ]
  },
  {
   "cell_type": "markdown",
   "metadata": {},
   "source": [
    "About **3 in a billion**.  I have to say, I'm begining to doubt Duane’s friend’s granddaughter's claim! \n",
    "\n",
    "But this answer is still not quite right because the outcome of each battle depends on the cards played in the previous turns. So simple arithmetic gets us an estimate, but not an exact answer."
   ]
  },
  {
   "cell_type": "markdown",
   "metadata": {},
   "source": [
    "# Approach 2: Brute Force Enumeration?\n",
    "\n",
    "A discrete probability problem like this can be solved, in theory, by enumerating every possibility:\n",
    "- Consider every possible permutation (that is, shuffle) of the deck of cards.\n",
    "- For each permutation, deal out the cards and see whether or not **A** wins every battle.\n",
    "- The probability is the number of sweeps divided by the number of permutations.\n",
    "\n",
    "Easy-peasy; here's the code (with some imports first):"
   ]
  },
  {
   "cell_type": "code",
   "execution_count": 3,
   "metadata": {},
   "outputs": [],
   "source": [
    "import random\n",
    "import matplotlib.pyplot as plt\n",
    "from collections import Counter, deque, namedtuple\n",
    "from itertools   import permutations, combinations, count as count_from\n",
    "from statistics  import mean, median, stdev, mode\n",
    "from typing      import List, Tuple, Iterable"
   ]
  },
  {
   "cell_type": "code",
   "execution_count": 4,
   "metadata": {},
   "outputs": [],
   "source": [
    "Probability = float # Type: Probability is a number between 0.0 and 1.0\n",
    "Deck        = deque # Type: Deck is a sequence of card ranks\n",
    "\n",
    "def make_deck(ranks=13, suits=4) -> Deck: \n",
    "    \"\"\"A Deck is a sequence of ranks, each rank repeated `suits` times.\"\"\"\n",
    "    return Deck(r for r in range(1, ranks + 1) for _ in range(suits)) \n",
    "\n",
    "deck52 = make_deck(13, 4)\n",
    "\n",
    "def is_sweep(deck: Deck) -> bool: \n",
    "    \"\"\"Upon dealing this deck, does player A win every battle?\"\"\"\n",
    "    return all(deck[i] > deck[i + 1] for i in range(0, len(deck), 2))\n",
    "\n",
    "def p_sweep(decks: Iterable[Deck]) -> Probability:\n",
    "    \"\"\"The probability that player A sweeps every battle, averaged over the decks.\"\"\"\n",
    "    return mean(map(is_sweep, decks))"
   ]
  },
  {
   "cell_type": "markdown",
   "metadata": {},
   "source": [
    "(*Implementation details:* in Python `False` is equivalent to `0` and `True` is equivalent to `1`, so the `mean` of an iterable of `bool` values is the same as the proportion (or probability) of `True` values. I used a `deque` (doubly-ended queue) to represent a deck, because I think of a deck as popping cards off the top and adding cards to the bottom (although we won't add to the bottom until later). Also because \"deck\" and \"deque\" are homophones.)\n",
    "\n",
    "Here are three different 8-card decks:"
   ]
  },
  {
   "cell_type": "code",
   "execution_count": 5,
   "metadata": {},
   "outputs": [],
   "source": [
    "assert make_deck(ranks=8, suits=1) == Deck([1, 2, 3, 4, 5, 6, 7, 8])\n",
    "assert make_deck(ranks=4, suits=2) == Deck([1, 1, 2, 2, 3, 3, 4, 4])\n",
    "assert make_deck(ranks=2, suits=4) == Deck([1, 1, 1, 1, 2, 2, 2, 2])"
   ]
  },
  {
   "cell_type": "markdown",
   "metadata": {},
   "source": [
    "And here are the probabilities of sweeping a game played with those decks:"
   ]
  },
  {
   "cell_type": "code",
   "execution_count": 6,
   "metadata": {},
   "outputs": [
    {
     "data": {
      "text/plain": [
       "0.0625"
      ]
     },
     "execution_count": 6,
     "metadata": {},
     "output_type": "execute_result"
    }
   ],
   "source": [
    "p_sweep(permutations(make_deck(8, 1)))"
   ]
  },
  {
   "cell_type": "code",
   "execution_count": 7,
   "metadata": {},
   "outputs": [
    {
     "data": {
      "text/plain": [
       "0.03571428571428571"
      ]
     },
     "execution_count": 7,
     "metadata": {},
     "output_type": "execute_result"
    }
   ],
   "source": [
    "p_sweep(permutations(make_deck(4, 2)))"
   ]
  },
  {
   "cell_type": "code",
   "execution_count": 8,
   "metadata": {},
   "outputs": [
    {
     "data": {
      "text/plain": [
       "0.014285714285714285"
      ]
     },
     "execution_count": 8,
     "metadata": {},
     "output_type": "execute_result"
    }
   ],
   "source": [
    "p_sweep(permutations(make_deck(2, 4)))"
   ]
  },
  {
   "cell_type": "markdown",
   "metadata": {},
   "source": [
    "What about the real deck, with 52 cards? Unfortunately, there are 52! permutations (more than $10^{67}$), and even if we were clever about repetitions, and\n",
    "even if we could process a billion deals a second, it would still take [millions of years](https://www.google.com/search?q=%2852%21+%2F+4%21%5E13+%2F+26%21%29+nanoseconds+in+years&oq=%2852%21+%2F+4%21%5E13+%2F+26%21%29+nanoseconds+in+years) to complete the brute force enumeration. And 538 Riddler wanted the answer by Monday!\n",
    "\n"
   ]
  },
  {
   "cell_type": "markdown",
   "metadata": {},
   "source": [
    "# Approach 3: Random Simulation?\n",
    "\n",
    "It takes too long to look at **all** the permutations, but we can  randomly sample **some** of the permutations of the deck to get an estimated probability. With enough samples this estimate will be close to the true value. The function `shuffles` yields `n` random shuffles of a deck:"
   ]
  },
  {
   "cell_type": "code",
   "execution_count": 9,
   "metadata": {},
   "outputs": [],
   "source": [
    "def shuffles(deck: Deck, n: int) -> Iterable[Deck]:\n",
    "    \"\"\"`n` random shuffles (mutations) of `deck`.\"\"\"\n",
    "    for _ in range(n):\n",
    "        random.shuffle(deck)\n",
    "        yield deck\n",
    "\n",
    "def shuffle(deck: Deck) -> Deck:\n",
    "    \"\"\"A single shuffle of `deck`.\"\"\"\n",
    "    return next(shuffles(deck, 1))"
   ]
  },
  {
   "cell_type": "markdown",
   "metadata": {},
   "source": [
    "The following sample is close to the true value of 0.0625:"
   ]
  },
  {
   "cell_type": "code",
   "execution_count": 10,
   "metadata": {},
   "outputs": [
    {
     "data": {
      "text/plain": [
       "0.06233"
      ]
     },
     "execution_count": 10,
     "metadata": {},
     "output_type": "execute_result"
    }
   ],
   "source": [
    "p_sweep(shuffles(make_deck(8, 1), 100_000))"
   ]
  },
  {
   "cell_type": "markdown",
   "metadata": {},
   "source": [
    "We can handle the full 52 card deck, but will the estimate be accurate?"
   ]
  },
  {
   "cell_type": "code",
   "execution_count": 11,
   "metadata": {},
   "outputs": [
    {
     "data": {
      "text/plain": [
       "0"
      ]
     },
     "execution_count": 11,
     "metadata": {},
     "output_type": "execute_result"
    }
   ],
   "source": [
    "p_sweep(shuffles(deck52, 100_000))"
   ]
  },
  {
   "cell_type": "markdown",
   "metadata": {},
   "source": [
    "The estimate is **0 in 100,000** which is the best possible estimate with that few samples. We  would need trillions of samples to get a decent estimate. That would require weeks of run time: much better than millions of years, but still not good enough. "
   ]
  },
  {
   "cell_type": "markdown",
   "metadata": {},
   "source": [
    "# Approach 4: Abstract Incremental Enumeration\n",
    "\n",
    "As discussed in my [**How To Count Things**](How%20To%20Count%20Things.ipynb) notebook, in problems where brute force enumeration is not feasible it is often possible to use a representation that is:\n",
    "- **Incremental**: First we'll consider the possibilities for the two cards in the first battle, and only for the outcomes in which **A** wins will we then move on to look at the possible cards for the next battle. For outcomes in which **A**  loses or ties, there is no need to consider the permutations of the remaining cards.\n",
    "- **Abstract**: What matters on each battle is whether **A**'s next card is higher, lower, or the same as **B**'s next card. On the first battle there are 52 × 3 = 156 ways in which the two players could play the same rank, but it doesn't matter if the ranks are two 3s or two 7s or whatever; the result is the same. So we should have an abstract representation that treats this as one way, not 156. Similarly, there are 52 × 48 = 2496 ways in which the two players could play different ranks, but again it doesn't matter if this is a 3 and a 7; or a 2 and a 10, or whatever. \n",
    "\n",
    "     \n",
    "# Abstract Deck\n",
    "\n",
    "The representation I will use, which I call `AbstractDeck`, is as follows:\n",
    "- An `AbstractDeck` is a tuple of counts of the number of remining cards of each rank, without specifying the ranks. \n",
    "- Ranks with counts of zero are dropped from the representation.\n",
    "- The counts are put in sorted order, lowest counts first.\n",
    "- For example:\n",
    "    - The initial 52-card deck is 13 ranks of 4 cards each: `(4, 4, 4, 4, 4, 4, 4, 4, 4, 4, 4, 4, 4)`\n",
    "    - The possible decks with just 2 cards remaining are `(2,)` and `(1, 1)`; that is, two cards of the same rank or 1 each of two different ranks.\n",
    "    - The possible decks with just 3 cards remaining are `(1, 1, 1)`, `(1, 2)`, and `(3,)`."
   ]
  },
  {
   "cell_type": "code",
   "execution_count": 12,
   "metadata": {},
   "outputs": [
    {
     "data": {
      "text/plain": [
       "(4, 4, 4, 4, 4, 4, 4, 4, 4, 4, 4, 4, 4)"
      ]
     },
     "execution_count": 12,
     "metadata": {},
     "output_type": "execute_result"
    }
   ],
   "source": [
    "AbstractDeck = tuple # Type: An abstract deck\n",
    "\n",
    "deck52a = AbstractDeck(13 * [4]) # The initial 52-card abstract deck\n",
    "deck52a"
   ]
  },
  {
   "cell_type": "markdown",
   "metadata": {},
   "source": [
    ">***Note:***  I also thought of an alternative representation in which: \n",
    ">- A deck was a tuple where `deck[i]` gives the number of different ranks that have exactly `i` cards remaining in the deck.\n",
    ">- The initial deck is represented as `(0, 0, 0, 0, 13)`: 13 ranks with 4-of-a-kind; none with less than that.\n",
    ">- The two possible two-card decks are `(0, 2)` (two ranks with 1 card each) and `(0, 0, 1)` (one rank with two cards).\n",
    ">\n",
    ">That representation was more compact, and thus ran a bit faster. But the very nice  [implementation](https://laurentlessard.com/bookproofs/flawless-war/) shared by [Laurent Lessard](https://laurentlessard.com/) convinced me to show the `AbstractDeck` representation because it is simpler to code and to understand.\n",
    "\n",
    "# Probability Distribution\n",
    "\n",
    "We'll keep track of possible outcomes with a class called `ProbDist` (for **probability distribution**), a mapping of `{deck: p}` where `deck` is an abstract deck and `p` is the probability of that deck being the outcome of a battle. For our problem we only need to track the outcomes in which **A** wins."
   ]
  },
  {
   "cell_type": "code",
   "execution_count": 13,
   "metadata": {},
   "outputs": [],
   "source": [
    "class ProbDist(Counter): \n",
    "    \"\"\"A probability distribution of {outcome: probability}.\"\"\""
   ]
  },
  {
   "cell_type": "markdown",
   "metadata": {},
   "source": [
    "# Abstract Incremental Enumeration Strategy\n",
    "\n",
    "The probability that **A** sweeps a game of War, `p_sweep_abstract(deck)`, is computed as follows:\n",
    "\n",
    "- Start with `P` being a **probability distribution** of outcomes after 0 battles: `{deck: 1.0}`.\n",
    "- **for** each battle of the game (26 battles for a 52-card deck):\n",
    "  - Update `P` to be the distribution that results from playing a single battle, `P = play_battle(P)`. Do that as follows:\n",
    "  - **for** each `deck` in `P`:\n",
    "      - **for** each way of removing two cards of distinct ranks `i` and `j` from `deck` to yield a resulting deck:\n",
    "          - Increment the probability of the resulting deck by probability of `deck` × probability of  `i` ×  probability of `j` \n",
    "\n",
    "Note that the call `combinations(indexes, 2)` yields all distinct pairs of indexes. Thus it will return `(i, j)` but not also `(j, i)`, and not `(i, i)`. That's just what we want: if the two selected ranks are the same then the result will be a tie, which we don't want in our resulting distribution of winning outcomes. And out of the two possibilities `(i, j)` and `(j, i)`, exactly one will result in a win for **A**, so we only want to include one of them."
   ]
  },
  {
   "cell_type": "code",
   "execution_count": 14,
   "metadata": {},
   "outputs": [],
   "source": [
    "def p_sweep_abstract(deck: AbstractDeck) -> Probability:\n",
    "    \"\"\"The probability that player A sweeps every battle in a game of War.\"\"\"\n",
    "    P = ProbDist({deck: 1.0}) # The initial probability distribution\n",
    "    for _ in range(sum(deck) // 2):\n",
    "        P = play_battle(P)\n",
    "    return P[()]\n",
    "\n",
    "def play_battle(P: ProbDist) -> ProbDist:\n",
    "    \"\"\"Play one battle with all possible card choices for players A and B; return\n",
    "    the probability distribution of outcomes where A still might sweep.\"\"\"\n",
    "    P1 = ProbDist() # The probability distribution of {deck: prob} after this battle\n",
    "    for deck in P:\n",
    "        n = sum(deck) # number of cards in deck\n",
    "        indexes = range(len(deck))\n",
    "        for i, j in combinations(indexes, 2):\n",
    "            P1[remove(deck, i, j)] += P[deck] * deck[i] * deck[j] / (n * (n - 1))\n",
    "    return P1\n",
    "\n",
    "def remove(deck: AbstractDeck, i: int, j: int) -> AbstractDeck:\n",
    "    \"\"\"Remove a card from each of the indexes i and j from the abstract deck.\"\"\"\n",
    "    counts = list(deck)\n",
    "    counts[i] -= 1\n",
    "    counts[j] -= 1\n",
    "    return AbstractDeck(sorted(c for c in counts if c > 0))"
   ]
  },
  {
   "cell_type": "code",
   "execution_count": 15,
   "metadata": {},
   "outputs": [],
   "source": [
    "assert remove(AbstractDeck((2, 3, 4)), 0, 1) == AbstractDeck((1, 2, 4)) # Test: remove a card from indexes 0 and 2."
   ]
  },
  {
   "cell_type": "markdown",
   "metadata": {},
   "source": [
    "# The Answer!\n",
    "\n",
    "What's the probability that player **A** will win in a sweep?"
   ]
  },
  {
   "cell_type": "code",
   "execution_count": 16,
   "metadata": {},
   "outputs": [
    {
     "data": {
      "text/plain": [
       "3.132436174322299e-09"
      ]
     },
     "execution_count": 16,
     "metadata": {},
     "output_type": "execute_result"
    }
   ],
   "source": [
    "p = p_sweep_abstract(deck52a)\n",
    "p"
   ]
  },
  {
   "cell_type": "markdown",
   "metadata": {},
   "source": [
    "A little over **3.1 in a billion** (which is slightly higher than the simple arithmetic calculation).\n",
    "\n",
    "(By the way, this computation took about 0.07 seconds, a big improvement over millions of years!) "
   ]
  },
  {
   "cell_type": "markdown",
   "metadata": {},
   "source": [
    "That's the answer to *my* question about the probability of **A** sweeping, but 538 Riddler actually posed the question somewhat differently: \"*How many games of War would you expect to play until you had a game that lasted just 26 turns with no wars, like Duane’s friend’s granddaughter?*\" That is, they want to know the inverse of the probability, and they are allowing for either **A** or **B** to sweep. So that would be:"
   ]
  },
  {
   "cell_type": "code",
   "execution_count": 17,
   "metadata": {},
   "outputs": [
    {
     "data": {
      "text/plain": [
       "159620171.70491105"
      ]
     },
     "execution_count": 17,
     "metadata": {},
     "output_type": "execute_result"
    }
   ],
   "source": [
    "1 / (2 * p)"
   ]
  },
  {
   "cell_type": "markdown",
   "metadata": {},
   "source": [
    " We would expect a sweep about once every 160 million games."
   ]
  },
  {
   "cell_type": "markdown",
   "metadata": {},
   "source": [
    "# Working through the Algorithm\n",
    "\n",
    "Let's work through how `play_battle` works. We'll start with `P` being the initial probability distribution over possible decks, and then play four battles, each time displaying how `P` is updated.\n",
    "\n",
    "At the start of the game there is only one possibility: a deck with 13 suits of 4 cards each:"
   ]
  },
  {
   "cell_type": "code",
   "execution_count": 18,
   "metadata": {},
   "outputs": [
    {
     "data": {
      "text/plain": [
       "ProbDist({(4, 4, 4, 4, 4, 4, 4, 4, 4, 4, 4, 4, 4): 1.0})"
      ]
     },
     "execution_count": 18,
     "metadata": {},
     "output_type": "execute_result"
    }
   ],
   "source": [
    "P = ProbDist({deck52a: 1.0})\n",
    "P"
   ]
  },
  {
   "cell_type": "markdown",
   "metadata": {},
   "source": [
    "Now play one battle:"
   ]
  },
  {
   "cell_type": "code",
   "execution_count": 19,
   "metadata": {},
   "outputs": [
    {
     "data": {
      "text/plain": [
       "ProbDist({(3, 3, 4, 4, 4, 4, 4, 4, 4, 4, 4, 4, 4): 0.47058823529411703})"
      ]
     },
     "execution_count": 19,
     "metadata": {},
     "output_type": "execute_result"
    }
   ],
   "source": [
    "P = play_battle(P) # Battle 1\n",
    "P"
   ]
  },
  {
   "cell_type": "markdown",
   "metadata": {},
   "source": [
    "There is still only one possibility. That makes sense: the only result where **A** still has a chance to sweep is when the two players turned over cards of different ranks, giving us two ranks with three-of-a-kind remaining, and 11 ranks with four-of-a-kind remaining. The probability of **A** winning one battle is 24/51 = 0.47058823529411703.\n",
    "\n",
    "For the second battle, here are the possibilities, depending on what card rank each player plays:\n",
    "\n",
    "|**A**|**B**|**Result**|\n",
    "|-----|-----|----------|\n",
    "|3-card rank|same 3-card rank|tie; not in result P|\n",
    "|4-card rank|same 4-card rank|tie; not in result P|\n",
    "|3-card rank|different 3-card rank|(2, 2, 4, 4, ...)|\n",
    "|4-card rank|different 4-card rank|(3, 3, 3, 3, 4, 4, ...)|\n",
    "|3-card rank|4-card rank|(2, 3, 3, 4, 4, ...)\n",
    "|4-card rank|3-card rank|(2, 3, 3, 4, 4, ...)\n",
    "\n"
   ]
  },
  {
   "cell_type": "code",
   "execution_count": 20,
   "metadata": {},
   "outputs": [
    {
     "data": {
      "text/plain": [
       "ProbDist({(3, 3, 3, 3, 4, 4, 4, 4, 4, 4, 4, 4, 4): 0.16902761104441777,\n",
       "          (2, 3, 3, 4, 4, 4, 4, 4, 4, 4, 4, 4, 4): 0.050708283313325234,\n",
       "          (2, 2, 4, 4, 4, 4, 4, 4, 4, 4, 4, 4, 4): 0.0017286914765906338})"
      ]
     },
     "execution_count": 20,
     "metadata": {},
     "output_type": "execute_result"
    }
   ],
   "source": [
    "P = play_battle(P) # Battle 2\n",
    "P"
   ]
  },
  {
   "cell_type": "markdown",
   "metadata": {},
   "source": [
    "We'll leave it as an exercise for the reader to verify that the next battle is correct:"
   ]
  },
  {
   "cell_type": "code",
   "execution_count": 21,
   "metadata": {},
   "outputs": [
    {
     "data": {
      "text/plain": [
       "ProbDist({(2, 3, 3, 3, 3, 4, 4, 4, 4, 4, 4, 4, 4): 0.048550484023396547,\n",
       "          (3, 3, 3, 3, 3, 3, 4, 4, 4, 4, 4, 4, 4): 0.043155985798574735,\n",
       "          (2, 2, 3, 3, 4, 4, 4, 4, 4, 4, 4, 4, 4): 0.010114684171540947,\n",
       "          (1, 3, 3, 3, 4, 4, 4, 4, 4, 4, 4, 4, 4): 0.0017981660749406111,\n",
       "          (1, 2, 3, 4, 4, 4, 4, 4, 4, 4, 4, 4, 4): 0.0004045873668616376,\n",
       "          (2, 2, 2, 4, 4, 4, 4, 4, 4, 4, 4, 4, 4): 0.00020229368343081878,\n",
       "          (1, 1, 4, 4, 4, 4, 4, 4, 4, 4, 4, 4, 4): 3.065055809557861e-06})"
      ]
     },
     "execution_count": 21,
     "metadata": {},
     "output_type": "execute_result"
    }
   ],
   "source": [
    "P = play_battle(P) # Battle 3\n",
    "P"
   ]
  },
  {
   "cell_type": "markdown",
   "metadata": {},
   "source": [
    "# Gaining Confidence in the Answer\n",
    "\n",
    "One way to gain confidence: The answer should be close to the arithmetic calculation of $(24/51)^{26}$. Let's compute the ratio of the two probabilities:"
   ]
  },
  {
   "cell_type": "code",
   "execution_count": 22,
   "metadata": {},
   "outputs": [
    {
     "data": {
      "text/plain": [
       "1.0167508045532485"
      ]
     },
     "execution_count": 22,
     "metadata": {},
     "output_type": "execute_result"
    }
   ],
   "source": [
    "p  = p_sweep_abstract(deck52a) \n",
    "p2 = (24/51) ** 26\n",
    "p / p2"
   ]
  },
  {
   "cell_type": "markdown",
   "metadata": {},
   "source": [
    "We see that the two computations are indeed close, differing by 1.675%.\n",
    "\n",
    "Another way to gain confidence: We can verify that there is no difference between the brute force `p_sweep` and the abstract incremental `p_sweep_abstract` for small decks.  That is evidence that the two implementations are either both right, or both wrong in the same way. `p_sweep` takes just a few milliseconds to solve decks of 8 cards or less, but takes about a second to do the 10! (almost 4 million) permutations of ten card decks, so we won't go larger than that while trying combinations of ranks and suits. In all the cases, the two probability calculations are the same (at least for 16 digits)."
   ]
  },
  {
   "cell_type": "code",
   "execution_count": 23,
   "metadata": {},
   "outputs": [
    {
     "name": "stdout",
     "output_type": "stream",
     "text": [
      "ranks = 2; suits = 1:  p = 0.50000; ∆ = 0.0000000000000000\n",
      "ranks = 2; suits = 2:  p = 0.16667; ∆ = 0.0000000000000000\n",
      "ranks = 2; suits = 3:  p = 0.05000; ∆ = 0.0000000000000000\n",
      "ranks = 2; suits = 4:  p = 0.01429; ∆ = 0.0000000000000000\n",
      "ranks = 2; suits = 5:  p = 0.00397; ∆ = 0.0000000000000000\n",
      "ranks = 3; suits = 2:  p = 0.06667; ∆ = 0.0000000000000000\n",
      "ranks = 4; suits = 1:  p = 0.25000; ∆ = 0.0000000000000000\n",
      "ranks = 4; suits = 2:  p = 0.03571; ∆ = 0.0000000000000000\n",
      "ranks = 5; suits = 2:  p = 0.01799; ∆ = 0.0000000000000000\n",
      "ranks = 6; suits = 1:  p = 0.12500; ∆ = 0.0000000000000000\n",
      "ranks = 8; suits = 1:  p = 0.06250; ∆ = 0.0000000000000000\n",
      "ranks =10; suits = 1:  p = 0.03125; ∆ = 0.0000000000000000\n"
     ]
    }
   ],
   "source": [
    "biggest_deck = 10\n",
    "\n",
    "sizes = [(r, s) for r in range(2, biggest_deck + 1) for s in range(1, biggest_deck + 1)\n",
    "                if r * s <= biggest_deck and (r * s) % 2 == 0]\n",
    "\n",
    "for (r, s) in sizes:\n",
    "    p1 = p_sweep(permutations(make_deck(r, s)))\n",
    "    p2 = p_sweep_abstract(AbstractDeck(r * [s]))\n",
    "    print(f'ranks ={r:2d}; suits ={s:2d}:  p = {p1:.5f}; ∆ = {abs(p1 - p2):.16f}')"
   ]
  },
  {
   "cell_type": "markdown",
   "metadata": {},
   "source": [
    "# Winning in 26 Plays, but not 26 Battles\n",
    "\n",
    "We were specifically asked about games in which one player wins 26 battles in a row. But I was curious: what's the probability of winning in 26 **plays**, but with the possibility of wars, so that ther4e are fewer **battles**? Suppose there are 4 wars in the course of a 26-play game. Then each player plays 3 × 4 = 12 face-down cards and 26 - 12 = 14 face-up cards. It is a lot easier to win 14 battles than 26.\n",
    "\n",
    "The function `sweep_with_wars_abstract` mirrors `p_sweep_abstract`, but with these differences: \n",
    "- Instead of just abstract decks, we need to keep track of abstract **states**, which contain an abstract deck as well as the number of face-down cards remaining to be played in a war.\n",
    "- The value returned is the final probability distribution, not just the probability of winning (because there are multiple possible outcomes).\n",
    "- The function`play_battle_or_face_down` is called instead of `play_battle`.\n",
    "   - In `play_battle_or_face_down` we iterate over all `pairs` of indexes, not just `combinations` of distinct indexes,  because we need to consider cases where both players play the same index. (Note this in a battle this means we have to divide the probability of a pair by 2 because **A** has the higher rank of the pair half the time.) The constant `DOWN` is the number of face-down cards in a war. It is set to 3, but you can change it.\n"
   ]
  },
  {
   "cell_type": "code",
   "execution_count": 24,
   "metadata": {},
   "outputs": [],
   "source": [
    "AbstractState = namedtuple('AbstractState', 'down, deck') # Type for abstract state of the game\n",
    "\n",
    "DOWN = 3                                                  # Number of face-down cards in a war\n",
    "\n",
    "def sweep_with_wars_abstract(deck: AbstractDeck) -> ProbDist:\n",
    "    \"\"\"The probability distribution that player A sweeps a game, which might include wars.\"\"\"\n",
    "    P = ProbDist({AbstractState(0, deck): 1.0}) # The initial probability distribution\n",
    "    for _ in range(sum(deck) // 2):\n",
    "        P = play_battle_or_face_down(P)\n",
    "    return P\n",
    "\n",
    "def play_battle_or_face_down(P: ProbDist) -> ProbDist:\n",
    "    \"\"\"Play all possible card choices for players A and B, whether face-down or face-up.\n",
    "    Return the probability distribution of outcomes where A still might sweep.\"\"\"\n",
    "    P1 = ProbDist() # The probability distribution of {state: prob} after this play\n",
    "    for (down, deck) in P:\n",
    "        indexes = [i for i in range(len(deck)) for _ in range(deck[i])]\n",
    "        pairs   = list(combinations(indexes, 2))\n",
    "        p_pair  = P[AbstractState(down, deck)] / len(pairs)                   # The probability of each pair of indexes\n",
    "        for i, j in pairs:\n",
    "            if down > 0:                                                      # We're in a war\n",
    "                P1[AbstractState(down - 1, remove(deck, i, j))] += p_pair\n",
    "            elif i == j:                                                      # We're starting a war\n",
    "                P1[AbstractState(DOWN, remove(deck, i, j))]     += p_pair\n",
    "            else:                                                             # A wins half the time\n",
    "                P1[AbstractState(0, remove(deck, i, j))]        += p_pair / 2\n",
    "    return P1"
   ]
  },
  {
   "cell_type": "markdown",
   "metadata": {},
   "source": [
    "Here are the results:"
   ]
  },
  {
   "cell_type": "code",
   "execution_count": 25,
   "metadata": {},
   "outputs": [
    {
     "data": {
      "text/plain": [
       "ProbDist({AbstractState(down=0, deck=()): 1.5476119509914642e-05,\n",
       "          AbstractState(down=1, deck=()): 3.1233217745837868e-06,\n",
       "          AbstractState(down=2, deck=()): 2.0982962265274516e-06,\n",
       "          AbstractState(down=3, deck=()): 1.4095876874120516e-06})"
      ]
     },
     "execution_count": 25,
     "metadata": {},
     "output_type": "execute_result"
    }
   ],
   "source": [
    "P = sweep_with_wars_abstract(deck52a)\n",
    "P"
   ]
  },
  {
   "cell_type": "markdown",
   "metadata": {},
   "source": [
    "There are four entries in the distribution. In one of them, `down=0`, player **A** wins, but in the other three, both players run out of cards in the middle of a war (which means the game is a tie). Here's the odds of **A** winning in 26 plays:"
   ]
  },
  {
   "cell_type": "code",
   "execution_count": 26,
   "metadata": {},
   "outputs": [
    {
     "data": {
      "text/plain": [
       "64615.68091144286"
      ]
     },
     "execution_count": 26,
     "metadata": {},
     "output_type": "execute_result"
    }
   ],
   "source": [
    "p26 = P[AbstractState(down=0, deck=())]\n",
    "1 / p26"
   ]
  },
  {
   "cell_type": "markdown",
   "metadata": {},
   "source": [
    "We see that **A** wins in 26 plays about once every 64,000 games. That's a lot more than once every 160 million games! Below we see that there will be a tie (where the whole game is one big multi-war, and both players run out of cards in the middle of a war on their 26th play) about once every 150,000 games:"
   ]
  },
  {
   "cell_type": "code",
   "execution_count": 27,
   "metadata": {},
   "outputs": [
    {
     "data": {
      "text/plain": [
       "150802.13870167118"
      ]
     },
     "execution_count": 27,
     "metadata": {},
     "output_type": "execute_result"
    }
   ],
   "source": [
    "p_tie26 = sum(P[state] for state in P if state.down > 0)\n",
    "1 / p_tie26"
   ]
  },
  {
   "cell_type": "markdown",
   "metadata": {},
   "source": [
    "# How Long Does a Game of War Last?\n",
    "\n",
    "Let's consider a different question: how long is an average game of war? What is the distribution of game lengths? \n",
    "\n",
    "I see no feasible way of answering this question using simple arithmetic or brute force enumeration, and no easy way to modify the abstract state representation. (After the first 26 plays, players start re-playing the cards they picked up, and the order in which cards were picked up matters, but our abstract representation doesn't represent the order of cards. Another issue is that games can be of unbounded length.) Therefore, I think a **simulation** is best. In the code that follows:\n",
    "- The type `State` is the state of the game after a play:\n",
    "    - A 4-tuple of the cards held by **A**, the cards held by **B**, and (if a war is  in progress), the played cards  and the number of face-down cards left to go.\n",
    "- The type `Game` is an iterable of game states; a history of what happened in the game.\n",
    "- The function `simulate_game` plays a single game, yielding the game state after every play (and before the first play).\n",
    "- The function starts by dealing the deck to players `A` and  `B`; and setting the `played` cards to an empty list.\n",
    "- On each pass through the main loop, each player plays one card from their deck, and there are three possibilities:\n",
    "    - If we are in a war and a face-down card remains to be played (i.e., `down` > 0), we don't look at the face-down cards, just decrement the number of face-down cards remaining.\n",
    "    - Otherwise, if the cards have the same rank, a new war is started.\n",
    "    - Otherwise, the winner is the player with the higher card. They pick up the played cards, shuffle them, and place them on the bottom of their deck."
   ]
  },
  {
   "cell_type": "code",
   "execution_count": 28,
   "metadata": {},
   "outputs": [],
   "source": [
    "State = namedtuple('State', 'A, B, played, down')         # Type fof state of the game\n",
    "Game  = Iterable[State]                                   # Type for a game history\n",
    "\n",
    "def simulate_game(deck: Deck) -> Game:\n",
    "    \"\"\"Deal the cards and play a random game of War, yielding the state each play.\"\"\"\n",
    "    down = 0\n",
    "    played = []\n",
    "    A, B = Deck(list(deck)[0::2]), Deck(list(deck)[1::2]) # Deal cards to A and B\n",
    "    yield State(A, B, played, down)                       # The state at the start of the game\n",
    "    while A and B:\n",
    "        played += [a := A.popleft(), b := B.popleft()]\n",
    "        if down > 0:                                      # In a war: these cards are face-down\n",
    "            down -= 1\n",
    "        elif a == b:                                      # A tie starts a war\n",
    "            down = DOWN\n",
    "        else:                                             # One player wins all the played cards\n",
    "            winner = (A if a > b else B)\n",
    "            winner.extend(shuffle(played))\n",
    "            played = []\n",
    "        yield State(A, B, played, down)                   # The state at the end of a play"
   ]
  },
  {
   "cell_type": "markdown",
   "metadata": {},
   "source": [
    "Here's an example of playing a single game with a deck of 12 cards. (We set the random seed to make the output reproducible.)"
   ]
  },
  {
   "cell_type": "code",
   "execution_count": 29,
   "metadata": {},
   "outputs": [
    {
     "name": "stdout",
     "output_type": "stream",
     "text": [
      "State(A=deque([4, 6, 3, 4, 3, 2]), B=deque([5, 5, 1, 6, 2, 1]), played=[], down=0)\n",
      "State(A=deque([6, 3, 4, 3, 2]), B=deque([5, 1, 6, 2, 1, 5, 4]), played=[], down=0)\n",
      "State(A=deque([3, 4, 3, 2, 6, 5]), B=deque([1, 6, 2, 1, 5, 4]), played=[], down=0)\n",
      "State(A=deque([4, 3, 2, 6, 5, 3, 1]), B=deque([6, 2, 1, 5, 4]), played=[], down=0)\n",
      "State(A=deque([3, 2, 6, 5, 3, 1]), B=deque([2, 1, 5, 4, 6, 4]), played=[], down=0)\n",
      "State(A=deque([2, 6, 5, 3, 1, 2, 3]), B=deque([1, 5, 4, 6, 4]), played=[], down=0)\n",
      "State(A=deque([6, 5, 3, 1, 2, 3, 1, 2]), B=deque([5, 4, 6, 4]), played=[], down=0)\n",
      "State(A=deque([5, 3, 1, 2, 3, 1, 2, 6, 5]), B=deque([4, 6, 4]), played=[], down=0)\n",
      "State(A=deque([3, 1, 2, 3, 1, 2, 6, 5, 4, 5]), B=deque([6, 4]), played=[], down=0)\n",
      "State(A=deque([1, 2, 3, 1, 2, 6, 5, 4, 5]), B=deque([4, 3, 6]), played=[], down=0)\n",
      "State(A=deque([2, 3, 1, 2, 6, 5, 4, 5]), B=deque([3, 6, 4, 1]), played=[], down=0)\n",
      "State(A=deque([3, 1, 2, 6, 5, 4, 5]), B=deque([6, 4, 1, 2, 3]), played=[], down=0)\n",
      "State(A=deque([1, 2, 6, 5, 4, 5]), B=deque([4, 1, 2, 3, 6, 3]), played=[], down=0)\n",
      "State(A=deque([2, 6, 5, 4, 5]), B=deque([1, 2, 3, 6, 3, 1, 4]), played=[], down=0)\n",
      "State(A=deque([6, 5, 4, 5, 1, 2]), B=deque([2, 3, 6, 3, 1, 4]), played=[], down=0)\n",
      "State(A=deque([5, 4, 5, 1, 2, 2, 6]), B=deque([3, 6, 3, 1, 4]), played=[], down=0)\n",
      "State(A=deque([4, 5, 1, 2, 2, 6, 3, 5]), B=deque([6, 3, 1, 4]), played=[], down=0)\n",
      "State(A=deque([5, 1, 2, 2, 6, 3, 5]), B=deque([3, 1, 4, 6, 4]), played=[], down=0)\n",
      "State(A=deque([1, 2, 2, 6, 3, 5, 5, 3]), B=deque([1, 4, 6, 4]), played=[], down=0)\n",
      "State(A=deque([2, 2, 6, 3, 5, 5, 3]), B=deque([4, 6, 4]), played=[1, 1], down=3)\n",
      "State(A=deque([2, 6, 3, 5, 5, 3]), B=deque([6, 4]), played=[1, 1, 2, 4], down=2)\n",
      "State(A=deque([6, 3, 5, 5, 3]), B=deque([4]), played=[1, 1, 2, 4, 2, 6], down=1)\n",
      "State(A=deque([3, 5, 5, 3]), B=deque([]), played=[1, 1, 2, 4, 2, 6, 6, 4], down=0)\n"
     ]
    }
   ],
   "source": [
    "random.seed(32)\n",
    "deck = shuffle(make_deck(6, 2))\n",
    "for state in simulate_game(deck):\n",
    "    print(state)"
   ]
  },
  {
   "cell_type": "markdown",
   "metadata": {},
   "source": [
    "In this game there is a war when **B** does not have enough cards left to play 3 face-down and one face-up, so **B** loses.\n",
    "\n",
    "But the format of the output could be improved, so I'll define `show_game` to print in a prettier format:"
   ]
  },
  {
   "cell_type": "code",
   "execution_count": 30,
   "metadata": {},
   "outputs": [],
   "source": [
    "def show_game(game: Game, col_width=30) -> None:\n",
    "    \"\"\"Show how the game progresses on each play.\"\"\"\n",
    "    def fmt(deck) -> str: return ''.join(map(str, deck)).rjust(col_width)\n",
    "    dash = '-' * col_width\n",
    "    print(f'Play |{fmt(\"A\")} |{fmt(\"B\")} |{fmt(\"played\")} | ↓ | Play\\n'\n",
    "          f'-----+{dash}-+{dash}-+{dash}-+---+-----')\n",
    "    for i, (A, B, played, down) in enumerate(game):\n",
    "        print(f'{i:4} |{fmt(A)} |{fmt(B)} |{fmt(played)} | {down or \"\":1} | {i:2}')"
   ]
  },
  {
   "cell_type": "code",
   "execution_count": 31,
   "metadata": {},
   "outputs": [
    {
     "name": "stdout",
     "output_type": "stream",
     "text": [
      "Play |                             A |                             B |                        played | ↓ | Play\n",
      "-----+-------------------------------+-------------------------------+-------------------------------+---+-----\n",
      "   0 |                        463432 |                        551621 |                               |   |  0\n",
      "   1 |                         63432 |                       5162154 |                               |   |  1\n",
      "   2 |                        343265 |                        162154 |                               |   |  2\n",
      "   3 |                       4326531 |                         62154 |                               |   |  3\n",
      "   4 |                        326531 |                        215464 |                               |   |  4\n",
      "   5 |                       2653123 |                         15464 |                               |   |  5\n",
      "   6 |                      65312312 |                          5464 |                               |   |  6\n",
      "   7 |                     531231265 |                           464 |                               |   |  7\n",
      "   8 |                    3123126545 |                            64 |                               |   |  8\n",
      "   9 |                     123126545 |                           436 |                               |   |  9\n",
      "  10 |                      23126545 |                          3641 |                               |   | 10\n",
      "  11 |                       3126545 |                         64123 |                               |   | 11\n",
      "  12 |                        126545 |                        412363 |                               |   | 12\n",
      "  13 |                         26545 |                       1236314 |                               |   | 13\n",
      "  14 |                        654512 |                        236314 |                               |   | 14\n",
      "  15 |                       5451226 |                         36314 |                               |   | 15\n",
      "  16 |                      45122635 |                          6314 |                               |   | 16\n",
      "  17 |                       5122635 |                         31464 |                               |   | 17\n",
      "  18 |                      12263553 |                          1464 |                               |   | 18\n",
      "  19 |                       2263553 |                           464 |                            11 | 3 | 19\n",
      "  20 |                        263553 |                            64 |                          1124 | 2 | 20\n",
      "  21 |                         63553 |                             4 |                        112426 | 1 | 21\n",
      "  22 |                          3553 |                               |                      11242664 |   | 22\n"
     ]
    }
   ],
   "source": [
    "random.seed(32)\n",
    "deck = shuffle(make_deck(6, 2))\n",
    "show_game(simulate_game(deck))"
   ]
  },
  {
   "cell_type": "markdown",
   "metadata": {},
   "source": [
    "Now that we can play a game, we can answer the question: what is the (estimated) distribution of lengths of games? "
   ]
  },
  {
   "cell_type": "code",
   "execution_count": 32,
   "metadata": {},
   "outputs": [],
   "source": [
    "def game_lengths(deck, N=100_000) -> List[int]: \n",
    "    \"\"\"Lengths (in plays) of N games played from randomly shuffled `deck`.\"\"\"\n",
    "    return [len(list(simulate_game(d))) - 1 # Subtract one because the initial state isn't a play\n",
    "            for d in shuffles(deck, N)]\n",
    "    \n",
    "def show_distribution(numbers: List[int], xlabel='Game length') -> None:\n",
    "    \"\"\"Show a histogram and stats for `numbers`.\"\"\"\n",
    "    print(f'N: {len(numbers):,d}; Mean: {mean(numbers):.0f} ± {stdev(numbers):.0f}\\n'\n",
    "          f'Min: {min(numbers)}; Median: {median(numbers):.0f}; Max: {max(numbers)}; Mode: {mode(numbers)}')\n",
    "    plt.hist(numbers, align='left', bins=75)\n",
    "    plt.xlabel(xlabel); plt.ylabel('Frequency'); plt.show()"
   ]
  },
  {
   "cell_type": "code",
   "execution_count": 33,
   "metadata": {},
   "outputs": [
    {
     "name": "stdout",
     "output_type": "stream",
     "text": [
      "N: 100,000; Mean: 294 ± 234\n",
      "Min: 26; Median: 224; Max: 2734; Mode: 94\n"
     ]
    },
    {
     "data": {
      "image/png": "[encoded data removed]",
      "text/plain": [
       "<Figure size 640x480 with 1 Axes>"
      ]
     },
     "metadata": {},
     "output_type": "display_data"
    }
   ],
   "source": [
    "show_distribution(game_lengths(deck52))"
   ]
  },
  {
   "cell_type": "markdown",
   "metadata": {},
   "source": [
    "The median game (in this sample) takes 224 plays, the mean is 294, and some games take thousands of plays.  "
   ]
  }
 ],
 "metadata": {
  "kernelspec": {
   "display_name": "Python 3 (ipykernel)",
   "language": "python",
   "name": "python3"
  },
  "language_info": {
   "codemirror_mode": {
    "name": "ipython",
    "version": 3
   },
   "file_extension": ".py",
   "mimetype": "text/x-python",
   "name": "python",
   "nbconvert_exporter": "python",
   "pygments_lexer": "ipython3",
   "version": "3.13.1"
  }
 },
 "nbformat": 4,
 "nbformat_minor": 4
}
